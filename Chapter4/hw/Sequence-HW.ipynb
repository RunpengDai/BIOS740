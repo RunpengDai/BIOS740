{
 "cells": [
  {
   "cell_type": "markdown",
   "id": "71877664",
   "metadata": {},
   "source": [
    "# Assignment: LSTM Model for Time Series Data\n",
    "\n",
    "In this assignment, you will be working with time series data to implement and train an LSTM model using PyTorch.\n",
    "The dataset contains acceleration intensity time series data along with labels indicating vascular or heart conditions.\n",
    "Your task is to complete the code in the provided Python script by filling in the missing pieces. The goal is to understand\n",
    "data preprocessing, model implementation, training, and evaluation using a deep learning framework."
   ]
  },
  {
   "cell_type": "code",
   "execution_count": null,
   "id": "7dd7c310",
   "metadata": {},
   "outputs": [],
   "source": [
    "import pandas as pd\n",
    "import numpy as np\n",
    "import torch\n",
    "from torch.utils.data import Dataset, DataLoader\n",
    "import torch.nn as nn\n",
    "import torch.optim as optim\n",
    "from sklearn.model_selection import train_test_split\n",
    "import os"
   ]
  },
  {
   "cell_type": "markdown",
   "id": "ce540f43",
   "metadata": {},
   "source": [
    "## 1. Data Preparation and Standardization\n",
    "Complete the `load_time_series(subjectID)` function to standardize the input time series data."
   ]
  },
  {
   "cell_type": "code",
   "execution_count": null,
   "id": "ab39e5a4",
   "metadata": {},
   "outputs": [],
   "source": [
    "def load_time_series(subjectID):\n",
    "    filename = f'{subjectID}_90004_0_0.csv'\n",
    "    filepath = os.path.join('/content/drive/MyDrive/UNC/Lab_BIG-S2/DataDownload/UKBdownload/Acceleration_intensity_time_series_field90004/file_120960_rows_1000files/', filename)\n",
    "    series = pd.read_csv(filepath, usecols=[0])\n",
    "    series = series.iloc[:, 0]\n",
    "\n",
    "    # TODO: Implement standardization (subtract mean and divide by standard deviation)\n",
    "\n",
    "    ##################################################################################\n",
    "\n",
    "    series = series.fillna(0).astype(np.float32).to_numpy()\n",
    "    return series"
   ]
  },
  {
   "cell_type": "markdown",
   "id": "68c664de",
   "metadata": {},
   "source": [
    "## 2. Dataset Class\n",
    "In the `TimeSeriesDataset` class, fill in the missing code to create sequences from the time series data."
   ]
  },
  {
   "cell_type": "code",
   "execution_count": null,
   "id": "e0f8fabc",
   "metadata": {},
   "outputs": [],
   "source": [
    "class TimeSeriesDataset(Dataset):\n",
    "    def __init__(self, dataframe, sequence_length=945, num_sequences=128):\n",
    "        self.dataframe = dataframe\n",
    "        self.num_sequences = num_sequences\n",
    "        self.sequence_length = sequence_length\n",
    "\n",
    "    def __getitem__(self, idx):\n",
    "        row = self.dataframe.iloc[idx]\n",
    "        subjectID, gender = row['subjectID'], row['gender']\n",
    "        data = load_time_series(subjectID)\n",
    "\n",
    "        # TODO: Split data into sequences of length `sequence_length`\n",
    "\n",
    "        #############################################################\n",
    "\n",
    "        return torch.tensor(sequences, dtype=torch.float32), torch.tensor(gender, dtype=torch.long), idx"
   ]
  },
  {
   "cell_type": "markdown",
   "id": "dd20fdcf",
   "metadata": {},
   "source": [
    "## 3. LSTM Model Training\n",
    "Implement the training loop in the `train_model` function."
   ]
  },
  {
   "cell_type": "code",
   "execution_count": null,
   "id": "de8ef82b",
   "metadata": {},
   "outputs": [],
   "source": [
    "def train_model(model, train_loader, criterion, optimizer, num_epochs=150):\n",
    "    for epoch in range(num_epochs):\n",
    "        model.train()\n",
    "        total_loss = 0\n",
    "        correct_train = 0\n",
    "        total_train = 0\n",
    "\n",
    "        # TODO: Complete the training loop\n",
    "\n",
    "        ##################################\n",
    "\n",
    "        train_accuracy = 100 * correct_train / total_train\n",
    "        print(f'Epoch {epoch+1}, Loss: {total_loss/len(train_loader)}, Train Accuracy: {train_accuracy}%')"
   ]
  },
  {
   "cell_type": "markdown",
   "id": "0fe77036",
   "metadata": {},
   "source": [
    "## 4. Evaluation\n",
    "Complete the `evaluate_model` function to calculate the average loss and accuracy."
   ]
  },
  {
   "cell_type": "code",
   "execution_count": null,
   "id": "6012340a",
   "metadata": {},
   "outputs": [],
   "source": [
    "def evaluate_model(model, test_loader, criterion):\n",
    "    model.eval()\n",
    "    total_loss = 0\n",
    "    total_test = 0\n",
    "    correct_test = 0\n",
    "\n",
    "    # TODO: Complete the evaluation logic\n",
    "\n",
    "    #####################################\n",
    "\n",
    "    test_accuracy = 100 * correct_test / total_test\n",
    "    print(f'Evaluate Loss: {total_loss / len(test_loader)}, Test Accuracy: {test_accuracy}%')\n",
    "    return total_loss / len(test_loader), test_accuracy"
   ]
  },
  {
   "cell_type": "markdown",
   "id": "72989e8f",
   "metadata": {},
   "source": [
    "## Additional Questions\n",
    "- What impact does the number of sequences (`num_sequences`) have on the performance of the LSTM model?\n",
    "- How does changing the learning rate affect the model's convergence during training?"
   ]
  }
 ],
 "metadata": {
  "kernelspec": {
   "display_name": "Python 3",
   "language": "python",
   "name": "python3"
  },
  "language_info": {
   "name": "python",
   "version": "3.x"
  }
 },
 "nbformat": 4,
 "nbformat_minor": 5
}

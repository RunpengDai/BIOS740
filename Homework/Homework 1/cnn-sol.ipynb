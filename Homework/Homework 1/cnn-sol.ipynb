{
 "cells": [
  {
   "cell_type": "code",
   "execution_count": 1,
   "id": "6c2bcbf6-6ee1-40bc-adf9-d22dfe3a467f",
   "metadata": {},
   "outputs": [],
   "source": [
    "import glob\n",
    "import pandas as pd\n",
    "import numpy as np\n",
    "import torch\n",
    "import torch.nn as nn\n",
    "import torch.nn.functional as F\n",
    "from torch.utils.data import Dataset, DataLoader\n",
    "from sklearn.model_selection import train_test_split\n",
    "import pytorch_lightning as pl\n",
    "from torchvision import models,transforms\n",
    "import torchvision.transforms.functional as TF\n",
    "from pytorch_lightning.callbacks.early_stopping import EarlyStopping\n",
    "from pytorch_lightning.loggers import CSVLogger\n",
    "import matplotlib.pyplot as plt"
   ]
  },
  {
   "cell_type": "markdown",
   "id": "b12016c9",
   "metadata": {},
   "source": [
    "## Loading data"
   ]
  },
  {
   "cell_type": "code",
   "execution_count": 2,
   "id": "de7dfbc0-70d8-46a9-95f5-3aee30e0f39a",
   "metadata": {},
   "outputs": [],
   "source": [
    "# Input data\n",
    "subject_ids = np.loadtxt(\"selected_samples_subset.txt\", dtype=str)\n",
    "left_hippo_dir = \"LeftCSV_subset/\"\n",
    "left_hippo_files = glob.glob(left_hippo_dir+\"*\")\n",
    "right_hippo_dir = \"RightCSV_subset/\"\n",
    "right_hippo_files = glob.glob(right_hippo_dir+\"*\")\n",
    "labels = pd.read_csv(\"adni_subset.csv\",names=['ID','AD']) "
   ]
  },
  {
   "cell_type": "code",
   "execution_count": 3,
   "id": "e32194dd-e2be-4c21-8654-4755095aaade",
   "metadata": {},
   "outputs": [],
   "source": [
    "class HippocampusDataset(Dataset):\n",
    "    def __init__(self, left_hippo_files, right_hippo_files, labels=None):\n",
    "        self.left_hippo = [pd.read_csv(f, header=None, sep=\" \").values for f in left_hippo_files]\n",
    "        self.right_hippo = [pd.read_csv(f, header=None, sep=\" \").values for f in right_hippo_files]\n",
    "        self.labels = labels['AD'] if labels is not None else None\n",
    "\n",
    "    def __len__(self):\n",
    "        return len(self.left_hippo)\n",
    "\n",
    "    def __getitem__(self, idx):\n",
    "        left = self.left_hippo[idx].astype(np.float32)   # shape: (15000, 7)\n",
    "        right = self.right_hippo[idx].astype(np.float32) # shape: (15000, 7)\n",
    "\n",
    "        ##########################################################\n",
    "        # 1. Concatenate the left and right hippocampus data along the feature dimension => (15000, 14)\n",
    "        # 2. Transpose to get (14, 15000)\n",
    "        # 3. Reshape each feature into (14, 150, 100)\n",
    "        # 4. Convert to torch tensor and normalize per feature channel\n",
    "        ##########################################################\n",
    "\n",
    "        # Step 1: Concatenate\n",
    "        sample = np.concatenate((left, right), axis=1)  # (15000, 14)\n",
    "\n",
    "        # Step 2: Transpose\n",
    "        sample = sample.T  # (14, 15000)\n",
    "\n",
    "        # Step 3: Reshape each feature to (14, 150, 100)\n",
    "        sample = sample.reshape(14, 150, 100)\n",
    "        # sample = sample[[0, 7], :, :]\n",
    "        \n",
    "        # Step 4a: Convert to PyTorch tensor\n",
    "        sample = torch.tensor(sample, dtype=torch.float32)  # (14, 150, 100)\n",
    "\n",
    "        # Step 4b: Normalize each feature channel\n",
    "        mean = sample.mean(dim=(1, 2), keepdim=True)  # shape: (14, 1, 1)\n",
    "        std = sample.std(dim=(1, 2), keepdim=True)    # shape: (14, 1, 1)\n",
    "        sample = (sample - mean) / (std + 1e-8)       # add epsilon to avoid /0\n",
    "\n",
    "        ##########################################################\n",
    "        # END OF YOUR CODE\n",
    "        ##########################################################\n",
    "\n",
    "        if self.labels is not None:\n",
    "            label = self.labels.iloc[idx]\n",
    "            return sample, label\n",
    "        else:\n",
    "            return sample"
   ]
  },
  {
   "cell_type": "code",
   "execution_count": 4,
   "id": "47ed0aca",
   "metadata": {},
   "outputs": [],
   "source": [
    "data_df = pd.DataFrame({\n",
    "    'ID': subject_ids,\n",
    "    'LeftFile': left_hippo_files,\n",
    "    'RightFile': right_hippo_files\n",
    "})\n",
    "\n",
    "# Merge data and labels on SubjectID\n",
    "merged_df = pd.merge(data_df, labels, on='ID', how='inner')  # Keep only subjects with labels\n",
    "\n",
    "# Now extract the filtered lists\n",
    "filtered_left_files = merged_df['LeftFile'].tolist()\n",
    "filtered_right_files = merged_df['RightFile'].tolist()\n",
    "\n",
    "unique_labels = sorted(set(labels['AD']))\n",
    "label_to_index = {label: idx for idx, label in enumerate(unique_labels)}\n",
    "labels['AD'] = [label_to_index[label] for label in labels['AD']]\n",
    "\n",
    "# Split into training and validation sets\n",
    "train_left, test_left, train_right, test_right, train_labels, test_labels = train_test_split(\n",
    "    filtered_left_files, filtered_right_files, labels, test_size=0.2, random_state=42\n",
    ")\n",
    "train_left, val_left, train_right, val_right, train_labels, val_labels = train_test_split(\n",
    "    train_left, train_right, train_labels, test_size=0.2, random_state=42\n",
    ")\n",
    "\n",
    "# Create Datasets and DataLoaders\n",
    "train_dataset = HippocampusDataset(train_left, train_right, train_labels)\n",
    "val_dataset = HippocampusDataset(val_left, val_right, val_labels)\n",
    "\n",
    "train_loader = DataLoader(train_dataset, batch_size=16, shuffle=True)\n",
    "val_loader = DataLoader(val_dataset, batch_size=16)\n",
    "\n",
    "test_dataset = HippocampusDataset(test_left, test_right, test_labels)\n",
    "test_loader = DataLoader(test_dataset, batch_size=32)"
   ]
  },
  {
   "cell_type": "markdown",
   "id": "0a2232f9",
   "metadata": {},
   "source": [
    "## visualize some samples"
   ]
  },
  {
   "cell_type": "code",
   "execution_count": 5,
   "id": "ab33bf66",
   "metadata": {},
   "outputs": [
    {
     "name": "stdout",
     "output_type": "stream",
     "text": [
      "The training set contain 236 samples.\n",
      "Each sample has shape torch.Size([14, 150, 100]).\n"
     ]
    }
   ],
   "source": [
    "print(f\"The training set contain {len(train_dataset)} samples.\")\n",
    "print(f\"Each sample has shape {train_dataset[0][0].shape}.\")"
   ]
  },
  {
   "cell_type": "markdown",
   "id": "54c9cfe2",
   "metadata": {},
   "source": [
    "Each sample is an image(150*100) with 14 Channels/Features from left and right hippocampus.\n",
    "We can visualize one sample "
   ]
  },
  {
   "cell_type": "code",
   "execution_count": 6,
   "id": "55b2a010",
   "metadata": {},
   "outputs": [
    {
     "data": {
      "image/png": "[encoded data removed]",
      "text/plain": [
       "<Figure size 640x480 with 2 Axes>"
      ]
     },
     "metadata": {},
     "output_type": "display_data"
    }
   ],
   "source": [
    "example_rd_tensor = train_dataset[0][0][0]  # shape: (150, 100)\n",
    "# Convert to NumPy\n",
    "radial_distance = example_rd_tensor.cpu().numpy() \n",
    "\n",
    "# Then plot as before\n",
    "plt.imshow(radial_distance, origin='lower', cmap='jet', aspect='auto')\n",
    "plt.colorbar(label=\"Radial Distance\")\n",
    "plt.title(\"First Feature (Radial Distance) in 2D\")\n",
    "plt.xlabel(\"Horizontal Index\")\n",
    "plt.ylabel(\"Vertical Index\")\n",
    "plt.show()"
   ]
  },
  {
   "cell_type": "markdown",
   "id": "70b056cd",
   "metadata": {},
   "source": [
    "## Naive CNN model"
   ]
  },
  {
   "cell_type": "markdown",
   "id": "f7603719",
   "metadata": {},
   "source": [
    "### First we create a trainer"
   ]
  },
  {
   "cell_type": "code",
   "execution_count": 5,
   "id": "f77771f8",
   "metadata": {},
   "outputs": [],
   "source": [
    "class Trainer(pl.LightningModule):\n",
    "    def __init__(self, model = None):\n",
    "        super(Trainer, self).__init__()\n",
    "        self.model = model\n",
    "        self.criterion = nn.CrossEntropyLoss()\n",
    "    \n",
    "    def forward(self, x):  \n",
    "        return self.model(x)\n",
    "        \n",
    "    def training_step(self, batch, batch_idx):\n",
    "        data, labels = batch\n",
    "        outputs = self(data)\n",
    "        loss = self.criterion(outputs, labels)\n",
    "        preds = torch.argmax(outputs, dim=1)\n",
    "        acc = (preds == labels).float().mean()\n",
    "        self.log('train_loss', loss)\n",
    "        self.log('train_acc', acc)\n",
    "        return loss\n",
    "\n",
    "    def validation_step(self, batch, batch_idx):\n",
    "        data, labels = batch\n",
    "        outputs = self(data)\n",
    "        loss = self.criterion(outputs, labels)\n",
    "        preds = torch.argmax(outputs, dim=1)\n",
    "        acc = (preds == labels).float().mean()\n",
    "        self.log('val_loss', loss)\n",
    "        self.log('val_acc', acc)\n",
    "\n",
    "    def configure_optimizers(self):\n",
    "        return torch.optim.Adam(self.parameters(), lr=1e-4)"
   ]
  },
  {
   "attachments": {
    "image.png": {
     "image/png": "[encoded data removed]"
    }
   },
   "cell_type": "markdown",
   "id": "a97b3028",
   "metadata": {},
   "source": [
    "![image.png](attachment:image.png)"
   ]
  },
  {
   "cell_type": "code",
   "execution_count": 8,
   "id": "e5095a19",
   "metadata": {},
   "outputs": [
    {
     "data": {
      "text/plain": [
       "(18, 12)"
      ]
     },
     "execution_count": 8,
     "metadata": {},
     "output_type": "execute_result"
    }
   ],
   "source": [
    "def calculate_output_shape(height, width):\n",
    "    \"\"\"\n",
    "    Helper to compute output (height, width) after convolution block\n",
    "    \"\"\"\n",
    "    for _ in range(3):\n",
    "        # Conv layer\n",
    "        height = ((height + 2*1 - (3 - 1) - 1) // 1) + 1\n",
    "        width  = ((width  + 2*1 - (3 - 1) - 1) // 1) + 1\n",
    "        # Pool layer\n",
    "        height = ((height - (2 - 1) - 1) // 2) + 1\n",
    "        width  = ((width  - (2 - 1) - 1) // 2) + 1\n",
    "    \n",
    "    return height, width\n",
    "calculate_output_shape(150, 100)"
   ]
  },
  {
   "cell_type": "code",
   "execution_count": 9,
   "id": "9cec6c99",
   "metadata": {},
   "outputs": [],
   "source": [
    "class SimpleCNN(nn.Module):\n",
    "    def __init__(self, num_classes=2):\n",
    "        super(SimpleCNN, self).__init__()\n",
    "        ##########################################################\n",
    "        # 1) Three 2D convolutional layers\n",
    "        # 2) A MaxPool2d layer self.pool\n",
    "        # 3) A Dropout layer self.dropout with probability 0.5\n",
    "        # 4) Two fully connected layers\n",
    "        #    -> Remember to compute in_features for self.fc1 based on\n",
    "        #       the output shape after the Conv+Pool layers.\n",
    "        ##########################################################\n",
    "\n",
    "        # Conv2d: in_channels=14  (since your data has shape [B, 14, 150, 100])\n",
    "        #          out_channels=32/64/128\n",
    "        #          kernel_size=3, stride=1, padding=1 (typical “same” conv)\n",
    "        self.conv1 = nn.Conv2d(in_channels=14, out_channels=32, \n",
    "                               kernel_size=3, stride=1, padding=1)\n",
    "        self.conv2 = nn.Conv2d(in_channels=32, out_channels=64, \n",
    "                               kernel_size=3, stride=1, padding=1)\n",
    "        self.conv3 = nn.Conv2d(in_channels=64, out_channels=128, \n",
    "                               kernel_size=3, stride=1, padding=1)\n",
    "\n",
    "        # MaxPool2d: kernel_size=2, stride=2\n",
    "        self.pool = nn.MaxPool2d(kernel_size=2, stride=2)\n",
    "\n",
    "        # Dropout\n",
    "        self.dropout = nn.Dropout(p=0.5)\n",
    "\n",
    "        # Compute the spatial output size after 3 conv+pool layers\n",
    "        out_h, out_w = 18, 12\n",
    "\n",
    "        # Fully Connected layers\n",
    "        # After the last conv/pool, you have 128 channels with size out_h x out_w\n",
    "        self.fc1 = nn.Linear(in_features=128 * out_h * out_w, out_features=64)\n",
    "        self.fc2 = nn.Linear(in_features=64, out_features=2)\n",
    "\n",
    "        ##########################################################\n",
    "        # END OF YOUR CODE\n",
    "        ##########################################################\n",
    "\n",
    "    def forward(self, x):\n",
    "        \"\"\"\n",
    "        Forward pass:\n",
    "        x shape = [batch_size, 14, 150, 100]\n",
    "        \"\"\"\n",
    "        # 1) First conv + ReLU + pool\n",
    "        x = F.relu(self.conv1(x))  # [B, 32, 150, 100]\n",
    "        x = self.pool(x)           # [B, 32,  75,  50]\n",
    "\n",
    "        # 2) Second conv + ReLU + pool\n",
    "        x = F.relu(self.conv2(x))  # [B, 64,  75,  50]\n",
    "        x = self.pool(x)           # [B, 64,  37,  25]\n",
    "\n",
    "        # 3) Third conv + ReLU + pool\n",
    "        x = F.relu(self.conv3(x))  # [B, 128, 37,  25]\n",
    "        x = self.pool(x)           # [B, 128, 18,  12]\n",
    "\n",
    "        # Flatten\n",
    "        x = x.view(x.size(0), -1)  # [B, 128*18*12]\n",
    "        x = self.dropout(x)\n",
    "\n",
    "        # Fully connected layers\n",
    "        x = F.relu(self.fc1(x))\n",
    "        x = self.fc2(x)\n",
    "        return x.squeeze()  "
   ]
  },
  {
   "cell_type": "markdown",
   "id": "3687408c-e525-47da-88e4-4f1fff09aa69",
   "metadata": {},
   "source": [
    "### Sanity Check of simple CNN"
   ]
  },
  {
   "cell_type": "markdown",
   "id": "7a2b15ba-a392-4599-8e10-fc4b8aad030c",
   "metadata": {},
   "source": [
    "You can use this to make sure the dimension of matrix match. To ensure the dimensions of matrices match and debug potential mismatches, you can add print statements to check the shape of each tensor in the forward step of your model."
   ]
  },
  {
   "cell_type": "code",
   "execution_count": 13,
   "id": "ac239caf-2967-4a72-b6e8-d7ee904f48b9",
   "metadata": {},
   "outputs": [
    {
     "data": {
      "text/plain": [
       "tensor([ 0.1680, -0.0882], grad_fn=<SqueezeBackward0>)"
      ]
     },
     "execution_count": 13,
     "metadata": {},
     "output_type": "execute_result"
    }
   ],
   "source": [
    "x = torch.randn(1, 14, 150, 100)\n",
    "simple_cnn = SimpleCNN()\n",
    "simple_cnn(x)"
   ]
  },
  {
   "cell_type": "markdown",
   "id": "40e47f7f",
   "metadata": {},
   "source": [
    "### Helper function for us to visualize the training process"
   ]
  },
  {
   "cell_type": "code",
   "execution_count": 6,
   "id": "8b7b1c76",
   "metadata": {},
   "outputs": [],
   "source": [
    "class FinalPlotCallback(pl.Callback):\n",
    "    def __init__(self):\n",
    "        super().__init__()\n",
    "        self.train_losses = []\n",
    "        self.val_losses = []\n",
    "\n",
    "    def on_train_epoch_end(self, trainer, pl_module):\n",
    "        # Append training and validation loss at the end of each epoch\n",
    "        train_loss = trainer.callback_metrics.get(\"train_loss\")\n",
    "        if train_loss:\n",
    "            self.train_losses.append(train_loss.cpu().detach().item())\n",
    "        \n",
    "        val_loss = trainer.callback_metrics.get(\"val_loss\")\n",
    "        if val_loss:\n",
    "            self.val_losses.append(val_loss.cpu().detach().item())\n",
    "\n",
    "    def on_train_end(self, trainer, pl_module):\n",
    "        # Plot the losses at the end of training\n",
    "        plt.figure(figsize=(10, 5))\n",
    "        plt.plot(self.train_losses, label=\"Train Loss\", marker=\"o\")\n",
    "        plt.plot(self.val_losses, label=\"Validation Loss\", marker=\"o\")\n",
    "        plt.xlabel(\"Epoch\")\n",
    "        plt.ylabel(\"Loss\")\n",
    "        plt.title(\"Training and Validation Loss Over Epochs\")\n",
    "        plt.legend()\n",
    "        plt.grid(True)\n",
    "        plt.show()"
   ]
  },
  {
   "cell_type": "markdown",
   "id": "dfe03f1a",
   "metadata": {},
   "source": [
    "### Train the Naive CNN model"
   ]
  },
  {
   "cell_type": "markdown",
   "id": "8769a85f-5508-464a-982a-224c9b226305",
   "metadata": {},
   "source": [
    "You can add techniques to prevent overfitting, such as early stopping."
   ]
  },
  {
   "cell_type": "code",
   "execution_count": null,
   "id": "12a37b36",
   "metadata": {},
   "outputs": [],
   "source": [
    "model = Trainer(model=SimpleCNN())\n",
    "# Trainer\n",
    "trainer =  pl.Trainer(max_epochs=50, callbacks=[FinalPlotCallback()]) # You may check the documents  \n",
    "# Training\n",
    "trainer.fit(model, train_loader, val_loader)"
   ]
  },
  {
   "cell_type": "markdown",
   "id": "13bd938e",
   "metadata": {
    "tags": []
   },
   "source": [
    "### Testing the Naive CNN model"
   ]
  },
  {
   "cell_type": "markdown",
   "id": "a3736cb8",
   "metadata": {},
   "source": [
    "### Finish the testing helper function"
   ]
  },
  {
   "cell_type": "code",
   "execution_count": 12,
   "id": "9669c0c7",
   "metadata": {},
   "outputs": [],
   "source": [
    "def testing(model):\n",
    "    # Inference on Test Set\n",
    "    model.eval()\n",
    "    test_label = test_labels['AD']\n",
    "    test_preds = []\n",
    "    with torch.no_grad():\n",
    "        for batch in test_loader:\n",
    "            data, _ = batch  # Unpack the batch; labels are ignored\n",
    "            outputs = model(data)\n",
    "            predictions = torch.argmax(outputs, dim=1)\n",
    "            test_preds.extend(predictions.cpu().numpy())\n",
    "    ##########################################################\n",
    "    # TODO: Import the necessary evaluation metrics from sklearn.metrics:\n",
    "    # - accuracy_score\n",
    "    # - precision_score\n",
    "    # - recall_score\n",
    "    # - f1_score\n",
    "    # - roc_auc_score\n",
    "    #\n",
    "    # Then, compute the following metrics using `test_label` and `test_preds`:\n",
    "    # 1. Accuracy\n",
    "    # 2. Precision (use 'weighted' average)\n",
    "    # 3. Recall (use 'weighted' average)\n",
    "    # 4. F1-Score (use 'weighted' average)\n",
    "    # 5. ROC-AUC (use 'weighted' average and 'ovr' for multi_class)\n",
    "    #\n",
    "    # Finally, print out each metric with four decimal places in the specified format.\n",
    "    ##########################################################\n",
    "    # Replace \"pass\" statement with your code\n",
    "\n",
    "    from sklearn.metrics import accuracy_score, precision_score, recall_score, f1_score, roc_auc_score\n",
    "\n",
    "    accuracy = accuracy_score(test_label, test_preds)\n",
    "    precision = precision_score(test_label, test_preds, average='weighted')\n",
    "    recall = recall_score(test_label, test_preds, average='weighted')\n",
    "    f1 = f1_score(test_label, test_preds, average='weighted')\n",
    "    roc_auc = roc_auc_score(test_label, test_preds, multi_class='ovr', average='weighted')\n",
    "\n",
    "    print(f'Test Accuracy: {accuracy:.4f}')\n",
    "    print(f'Test Precision: {precision:.4f}')\n",
    "    print(f'Test Recall: {recall:.4f}')\n",
    "    print(f'Test F1-Score: {f1:.4f}')\n",
    "    print(f'Validation ROC-AUC: {roc_auc:.4f}')\n",
    "\n",
    "    ##########################################################\n",
    "    # END OF YOUR CODE\n",
    "    ##########################################################"
   ]
  },
  {
   "cell_type": "code",
   "execution_count": 52,
   "id": "ef99568a",
   "metadata": {},
   "outputs": [
    {
     "name": "stdout",
     "output_type": "stream",
     "text": [
      "Test Accuracy: 0.5676\n",
      "Test Precision: 0.5580\n",
      "Test Recall: 0.5676\n",
      "Test F1-Score: 0.5624\n",
      "Validation ROC-AUC: 0.4958\n"
     ]
    }
   ],
   "source": [
    "testing(model)"
   ]
  },
  {
   "cell_type": "markdown",
   "id": "0aa60c60",
   "metadata": {},
   "source": [
    "# Try some of the models"
   ]
  },
  {
   "cell_type": "markdown",
   "id": "adb3b986",
   "metadata": {},
   "source": [
    "We can experiment with modern CNN architectures such as ResNet and DenseNet. These models can be loaded from torch.hub, and some layers may need to be modified to ensure compatibility. "
   ]
  },
  {
   "cell_type": "markdown",
   "id": "91ac3ea6-f93b-41c1-a745-08d12062f5f1",
   "metadata": {},
   "source": [
    "Hint: Specifically, ensure that the input layer matches the shape of your data and the output layer corresponds to the number of classes in your task."
   ]
  },
  {
   "cell_type": "markdown",
   "id": "62a42bb6-5108-4b9a-96fa-b3eb0bb5cacd",
   "metadata": {},
   "source": [
    "You can feel free to google or ask chatGPT for the answer."
   ]
  },
  {
   "cell_type": "code",
   "execution_count": 7,
   "id": "584140c2-e56b-4c58-80fb-1ccb0f1ffa92",
   "metadata": {},
   "outputs": [
    {
     "name": "stderr",
     "output_type": "stream",
     "text": [
      "Using cache found in /nas/longleaf/home/runpeng/.cache/torch/hub/pytorch_vision_v0.19.0\n",
      "/nas/longleaf/home/runpeng/.conda/envs/PIE/lib/python3.9/site-packages/torchvision/models/_utils.py:208: UserWarning: The parameter 'pretrained' is deprecated since 0.13 and may be removed in the future, please use 'weights' instead.\n",
      "  warnings.warn(\n",
      "/nas/longleaf/home/runpeng/.conda/envs/PIE/lib/python3.9/site-packages/torchvision/models/_utils.py:223: UserWarning: Arguments other than a weight enum or `None` for 'weights' are deprecated since 0.13 and may be removed in the future. The current behavior is equivalent to passing `weights=VGG16_Weights.IMAGENET1K_V1`. You can also use `weights=VGG16_Weights.DEFAULT` to get the most up-to-date weights.\n",
      "  warnings.warn(msg)\n"
     ]
    },
    {
     "name": "stdout",
     "output_type": "stream",
     "text": [
      "VGG(\n",
      "  (features): Sequential(\n",
      "    (0): Conv2d(3, 64, kernel_size=(3, 3), stride=(1, 1), padding=(1, 1))\n",
      "    (1): ReLU(inplace=True)\n",
      "    (2): Conv2d(64, 64, kernel_size=(3, 3), stride=(1, 1), padding=(1, 1))\n",
      "    (3): ReLU(inplace=True)\n",
      "    (4): MaxPool2d(kernel_size=2, stride=2, padding=0, dilation=1, ceil_mode=False)\n",
      "    (5): Conv2d(64, 128, kernel_size=(3, 3), stride=(1, 1), padding=(1, 1))\n",
      "    (6): ReLU(inplace=True)\n",
      "    (7): Conv2d(128, 128, kernel_size=(3, 3), stride=(1, 1), padding=(1, 1))\n",
      "    (8): ReLU(inplace=True)\n",
      "    (9): MaxPool2d(kernel_size=2, stride=2, padding=0, dilation=1, ceil_mode=False)\n",
      "    (10): Conv2d(128, 256, kernel_size=(3, 3), stride=(1, 1), padding=(1, 1))\n",
      "    (11): ReLU(inplace=True)\n",
      "    (12): Conv2d(256, 256, kernel_size=(3, 3), stride=(1, 1), padding=(1, 1))\n",
      "    (13): ReLU(inplace=True)\n",
      "    (14): Conv2d(256, 256, kernel_size=(3, 3), stride=(1, 1), padding=(1, 1))\n",
      "    (15): ReLU(inplace=True)\n",
      "    (16): MaxPool2d(kernel_size=2, stride=2, padding=0, dilation=1, ceil_mode=False)\n",
      "    (17): Conv2d(256, 512, kernel_size=(3, 3), stride=(1, 1), padding=(1, 1))\n",
      "    (18): ReLU(inplace=True)\n",
      "    (19): Conv2d(512, 512, kernel_size=(3, 3), stride=(1, 1), padding=(1, 1))\n",
      "    (20): ReLU(inplace=True)\n",
      "    (21): Conv2d(512, 512, kernel_size=(3, 3), stride=(1, 1), padding=(1, 1))\n",
      "    (22): ReLU(inplace=True)\n",
      "    (23): MaxPool2d(kernel_size=2, stride=2, padding=0, dilation=1, ceil_mode=False)\n",
      "    (24): Conv2d(512, 512, kernel_size=(3, 3), stride=(1, 1), padding=(1, 1))\n",
      "    (25): ReLU(inplace=True)\n",
      "    (26): Conv2d(512, 512, kernel_size=(3, 3), stride=(1, 1), padding=(1, 1))\n",
      "    (27): ReLU(inplace=True)\n",
      "    (28): Conv2d(512, 512, kernel_size=(3, 3), stride=(1, 1), padding=(1, 1))\n",
      "    (29): ReLU(inplace=True)\n",
      "    (30): MaxPool2d(kernel_size=2, stride=2, padding=0, dilation=1, ceil_mode=False)\n",
      "  )\n",
      "  (avgpool): AdaptiveAvgPool2d(output_size=(7, 7))\n",
      "  (classifier): Sequential(\n",
      "    (0): Linear(in_features=25088, out_features=4096, bias=True)\n",
      "    (1): ReLU(inplace=True)\n",
      "    (2): Dropout(p=0.5, inplace=False)\n",
      "    (3): Linear(in_features=4096, out_features=4096, bias=True)\n",
      "    (4): ReLU(inplace=True)\n",
      "    (5): Dropout(p=0.5, inplace=False)\n",
      "    (6): Linear(in_features=4096, out_features=1000, bias=True)\n",
      "  )\n",
      ")\n"
     ]
    }
   ],
   "source": [
    "VGG16 = torch.hub.load('pytorch/vision:v0.19.0', 'vgg16', pretrained=True)\n",
    "print(VGG16)"
   ]
  },
  {
   "cell_type": "code",
   "execution_count": 8,
   "id": "eb885241",
   "metadata": {},
   "outputs": [
    {
     "name": "stdout",
     "output_type": "stream",
     "text": [
      "VGG(\n",
      "  (features): Sequential(\n",
      "    (0): Conv2d(2, 64, kernel_size=(3, 3), stride=(1, 1), padding=(1, 1))\n",
      "    (1): ReLU(inplace=True)\n",
      "    (2): Conv2d(64, 64, kernel_size=(3, 3), stride=(1, 1), padding=(1, 1))\n",
      "    (3): ReLU(inplace=True)\n",
      "    (4): MaxPool2d(kernel_size=2, stride=2, padding=0, dilation=1, ceil_mode=False)\n",
      "    (5): Conv2d(64, 128, kernel_size=(3, 3), stride=(1, 1), padding=(1, 1))\n",
      "    (6): ReLU(inplace=True)\n",
      "    (7): Conv2d(128, 128, kernel_size=(3, 3), stride=(1, 1), padding=(1, 1))\n",
      "    (8): ReLU(inplace=True)\n",
      "    (9): MaxPool2d(kernel_size=2, stride=2, padding=0, dilation=1, ceil_mode=False)\n",
      "    (10): Conv2d(128, 256, kernel_size=(3, 3), stride=(1, 1), padding=(1, 1))\n",
      "    (11): ReLU(inplace=True)\n",
      "    (12): Conv2d(256, 256, kernel_size=(3, 3), stride=(1, 1), padding=(1, 1))\n",
      "    (13): ReLU(inplace=True)\n",
      "    (14): Conv2d(256, 256, kernel_size=(3, 3), stride=(1, 1), padding=(1, 1))\n",
      "    (15): ReLU(inplace=True)\n",
      "    (16): MaxPool2d(kernel_size=2, stride=2, padding=0, dilation=1, ceil_mode=False)\n",
      "    (17): Conv2d(256, 512, kernel_size=(3, 3), stride=(1, 1), padding=(1, 1))\n",
      "    (18): ReLU(inplace=True)\n",
      "    (19): Conv2d(512, 512, kernel_size=(3, 3), stride=(1, 1), padding=(1, 1))\n",
      "    (20): ReLU(inplace=True)\n",
      "    (21): Conv2d(512, 512, kernel_size=(3, 3), stride=(1, 1), padding=(1, 1))\n",
      "    (22): ReLU(inplace=True)\n",
      "    (23): MaxPool2d(kernel_size=2, stride=2, padding=0, dilation=1, ceil_mode=False)\n",
      "    (24): Conv2d(512, 512, kernel_size=(3, 3), stride=(1, 1), padding=(1, 1))\n",
      "    (25): ReLU(inplace=True)\n",
      "    (26): Conv2d(512, 512, kernel_size=(3, 3), stride=(1, 1), padding=(1, 1))\n",
      "    (27): ReLU(inplace=True)\n",
      "    (28): Conv2d(512, 512, kernel_size=(3, 3), stride=(1, 1), padding=(1, 1))\n",
      "    (29): ReLU(inplace=True)\n",
      "    (30): MaxPool2d(kernel_size=2, stride=2, padding=0, dilation=1, ceil_mode=False)\n",
      "  )\n",
      "  (avgpool): AdaptiveAvgPool2d(output_size=(7, 7))\n",
      "  (classifier): Sequential(\n",
      "    (0): Linear(in_features=25088, out_features=4096, bias=True)\n",
      "    (1): ReLU(inplace=True)\n",
      "    (2): Dropout(p=0.5, inplace=False)\n",
      "    (3): Linear(in_features=4096, out_features=4096, bias=True)\n",
      "    (4): ReLU(inplace=True)\n",
      "    (5): Dropout(p=0.5, inplace=False)\n",
      "    (6): Linear(in_features=4096, out_features=2, bias=True)\n",
      "  )\n",
      ")\n"
     ]
    }
   ],
   "source": [
    "old_conv = VGG16.features[0]  # Conv2d block\n",
    "new_conv = nn.Conv2d(in_channels=14, \n",
    "                    out_channels=old_conv.out_channels,\n",
    "                    kernel_size=old_conv.kernel_size,\n",
    "                    stride=old_conv.stride,\n",
    "                    padding=old_conv.padding,\n",
    "                    bias=(old_conv.bias is not None))\n",
    "\n",
    "# # Initialize new_conv's weights\n",
    "# with torch.no_grad():\n",
    "#     new_conv.weight[:, :3, :, :] = old_conv.weight\n",
    "#     if new_conv.bias is not None and old_conv.bias is not None:\n",
    "#         new_conv.bias[:] = old_conv.bias\n",
    "\n",
    "VGG16.features[0] = new_conv\n",
    "\n",
    "        \n",
    "in_features_fc = VGG16.classifier[6].in_features\n",
    "VGG16.classifier[6] = nn.Linear(in_features_fc, 2)\n",
    "print(VGG16)"
   ]
  },
  {
   "cell_type": "code",
   "execution_count": 9,
   "id": "2e3a817f",
   "metadata": {},
   "outputs": [
    {
     "name": "stderr",
     "output_type": "stream",
     "text": [
      "GPU available: True (cuda), used: True\n",
      "TPU available: False, using: 0 TPU cores\n",
      "HPU available: False, using: 0 HPUs\n",
      "You are using a CUDA device ('NVIDIA A100-PCIE-40GB MIG 2g.10gb') that has Tensor Cores. To properly utilize them, you should set `torch.set_float32_matmul_precision('medium' | 'high')` which will trade-off precision for performance. For more details, read https://pytorch.org/docs/stable/generated/torch.set_float32_matmul_precision.html#torch.set_float32_matmul_precision\n",
      "/nas/longleaf/home/runpeng/.local/lib/python3.9/site-packages/pytorch_lightning/callbacks/model_checkpoint.py:654: Checkpoint directory /nas/longleaf/home/runpeng/HW/lightning_logs/version_57390496/checkpoints exists and is not empty.\n",
      "LOCAL_RANK: 0 - CUDA_VISIBLE_DEVICES: [MIG-a78a595d-726f-52d3-9ad4-538866ef7a4f]\n",
      "\n",
      "  | Name      | Type             | Params | Mode \n",
      "-------------------------------------------------------\n",
      "0 | model     | VGG              | 134 M  | train\n",
      "1 | criterion | CrossEntropyLoss | 0      | train\n",
      "-------------------------------------------------------\n",
      "134 M     Trainable params\n",
      "0         Non-trainable params\n",
      "134 M     Total params\n",
      "537.073   Total estimated model params size (MB)\n",
      "43        Modules in train mode\n",
      "0         Modules in eval mode\n",
      "SLURM auto-requeueing enabled. Setting signal handlers.\n"
     ]
    },
    {
     "data": {
      "application/vnd.jupyter.widget-view+json": {
       "model_id": "",
       "version_major": 2,
       "version_minor": 0
      },
      "text/plain": [
       "Sanity Checking: |          | 0/? [00:00<?, ?it/s]"
      ]
     },
     "metadata": {},
     "output_type": "display_data"
    },
    {
     "name": "stderr",
     "output_type": "stream",
     "text": [
      "/nas/longleaf/home/runpeng/.local/lib/python3.9/site-packages/pytorch_lightning/loops/fit_loop.py:310: The number of training batches (15) is smaller than the logging interval Trainer(log_every_n_steps=50). Set a lower value for log_every_n_steps if you want to see logs for the training epoch.\n"
     ]
    },
    {
     "data": {
      "application/vnd.jupyter.widget-view+json": {
       "model_id": "b1afe95df73f4b3083436f34f7f2ca60",
       "version_major": 2,
       "version_minor": 0
      },
      "text/plain": [
       "Training: |          | 0/? [00:00<?, ?it/s]"
      ]
     },
     "metadata": {},
     "output_type": "display_data"
    },
    {
     "data": {
      "application/vnd.jupyter.widget-view+json": {
       "model_id": "",
       "version_major": 2,
       "version_minor": 0
      },
      "text/plain": [
       "Validation: |          | 0/? [00:00<?, ?it/s]"
      ]
     },
     "metadata": {},
     "output_type": "display_data"
    },
    {
     "name": "stderr",
     "output_type": "stream",
     "text": [
      "Metric val_loss improved. New best score: 0.640\n"
     ]
    },
    {
     "data": {
      "application/vnd.jupyter.widget-view+json": {
       "model_id": "",
       "version_major": 2,
       "version_minor": 0
      },
      "text/plain": [
       "Validation: |          | 0/? [00:00<?, ?it/s]"
      ]
     },
     "metadata": {},
     "output_type": "display_data"
    },
    {
     "name": "stderr",
     "output_type": "stream",
     "text": [
      "Metric val_loss improved by 0.078 >= min_delta = 0.0. New best score: 0.562\n"
     ]
    },
    {
     "data": {
      "application/vnd.jupyter.widget-view+json": {
       "model_id": "",
       "version_major": 2,
       "version_minor": 0
      },
      "text/plain": [
       "Validation: |          | 0/? [00:00<?, ?it/s]"
      ]
     },
     "metadata": {},
     "output_type": "display_data"
    },
    {
     "data": {
      "application/vnd.jupyter.widget-view+json": {
       "model_id": "",
       "version_major": 2,
       "version_minor": 0
      },
      "text/plain": [
       "Validation: |          | 0/? [00:00<?, ?it/s]"
      ]
     },
     "metadata": {},
     "output_type": "display_data"
    },
    {
     "data": {
      "application/vnd.jupyter.widget-view+json": {
       "model_id": "",
       "version_major": 2,
       "version_minor": 0
      },
      "text/plain": [
       "Validation: |          | 0/? [00:00<?, ?it/s]"
      ]
     },
     "metadata": {},
     "output_type": "display_data"
    },
    {
     "data": {
      "application/vnd.jupyter.widget-view+json": {
       "model_id": "",
       "version_major": 2,
       "version_minor": 0
      },
      "text/plain": [
       "Validation: |          | 0/? [00:00<?, ?it/s]"
      ]
     },
     "metadata": {},
     "output_type": "display_data"
    },
    {
     "data": {
      "application/vnd.jupyter.widget-view+json": {
       "model_id": "",
       "version_major": 2,
       "version_minor": 0
      },
      "text/plain": [
       "Validation: |          | 0/? [00:00<?, ?it/s]"
      ]
     },
     "metadata": {},
     "output_type": "display_data"
    },
    {
     "data": {
      "application/vnd.jupyter.widget-view+json": {
       "model_id": "",
       "version_major": 2,
       "version_minor": 0
      },
      "text/plain": [
       "Validation: |          | 0/? [00:00<?, ?it/s]"
      ]
     },
     "metadata": {},
     "output_type": "display_data"
    },
    {
     "data": {
      "application/vnd.jupyter.widget-view+json": {
       "model_id": "",
       "version_major": 2,
       "version_minor": 0
      },
      "text/plain": [
       "Validation: |          | 0/? [00:00<?, ?it/s]"
      ]
     },
     "metadata": {},
     "output_type": "display_data"
    },
    {
     "data": {
      "application/vnd.jupyter.widget-view+json": {
       "model_id": "",
       "version_major": 2,
       "version_minor": 0
      },
      "text/plain": [
       "Validation: |          | 0/? [00:00<?, ?it/s]"
      ]
     },
     "metadata": {},
     "output_type": "display_data"
    },
    {
     "data": {
      "application/vnd.jupyter.widget-view+json": {
       "model_id": "",
       "version_major": 2,
       "version_minor": 0
      },
      "text/plain": [
       "Validation: |          | 0/? [00:00<?, ?it/s]"
      ]
     },
     "metadata": {},
     "output_type": "display_data"
    },
    {
     "data": {
      "application/vnd.jupyter.widget-view+json": {
       "model_id": "",
       "version_major": 2,
       "version_minor": 0
      },
      "text/plain": [
       "Validation: |          | 0/? [00:00<?, ?it/s]"
      ]
     },
     "metadata": {},
     "output_type": "display_data"
    },
    {
     "data": {
      "application/vnd.jupyter.widget-view+json": {
       "model_id": "",
       "version_major": 2,
       "version_minor": 0
      },
      "text/plain": [
       "Validation: |          | 0/? [00:00<?, ?it/s]"
      ]
     },
     "metadata": {},
     "output_type": "display_data"
    },
    {
     "data": {
      "application/vnd.jupyter.widget-view+json": {
       "model_id": "",
       "version_major": 2,
       "version_minor": 0
      },
      "text/plain": [
       "Validation: |          | 0/? [00:00<?, ?it/s]"
      ]
     },
     "metadata": {},
     "output_type": "display_data"
    },
    {
     "data": {
      "application/vnd.jupyter.widget-view+json": {
       "model_id": "",
       "version_major": 2,
       "version_minor": 0
      },
      "text/plain": [
       "Validation: |          | 0/? [00:00<?, ?it/s]"
      ]
     },
     "metadata": {},
     "output_type": "display_data"
    },
    {
     "data": {
      "application/vnd.jupyter.widget-view+json": {
       "model_id": "",
       "version_major": 2,
       "version_minor": 0
      },
      "text/plain": [
       "Validation: |          | 0/? [00:00<?, ?it/s]"
      ]
     },
     "metadata": {},
     "output_type": "display_data"
    },
    {
     "data": {
      "application/vnd.jupyter.widget-view+json": {
       "model_id": "",
       "version_major": 2,
       "version_minor": 0
      },
      "text/plain": [
       "Validation: |          | 0/? [00:00<?, ?it/s]"
      ]
     },
     "metadata": {},
     "output_type": "display_data"
    },
    {
     "data": {
      "application/vnd.jupyter.widget-view+json": {
       "model_id": "",
       "version_major": 2,
       "version_minor": 0
      },
      "text/plain": [
       "Validation: |          | 0/? [00:00<?, ?it/s]"
      ]
     },
     "metadata": {},
     "output_type": "display_data"
    },
    {
     "data": {
      "application/vnd.jupyter.widget-view+json": {
       "model_id": "",
       "version_major": 2,
       "version_minor": 0
      },
      "text/plain": [
       "Validation: |          | 0/? [00:00<?, ?it/s]"
      ]
     },
     "metadata": {},
     "output_type": "display_data"
    },
    {
     "data": {
      "application/vnd.jupyter.widget-view+json": {
       "model_id": "",
       "version_major": 2,
       "version_minor": 0
      },
      "text/plain": [
       "Validation: |          | 0/? [00:00<?, ?it/s]"
      ]
     },
     "metadata": {},
     "output_type": "display_data"
    },
    {
     "data": {
      "application/vnd.jupyter.widget-view+json": {
       "model_id": "",
       "version_major": 2,
       "version_minor": 0
      },
      "text/plain": [
       "Validation: |          | 0/? [00:00<?, ?it/s]"
      ]
     },
     "metadata": {},
     "output_type": "display_data"
    },
    {
     "data": {
      "application/vnd.jupyter.widget-view+json": {
       "model_id": "",
       "version_major": 2,
       "version_minor": 0
      },
      "text/plain": [
       "Validation: |          | 0/? [00:00<?, ?it/s]"
      ]
     },
     "metadata": {},
     "output_type": "display_data"
    },
    {
     "name": "stderr",
     "output_type": "stream",
     "text": [
      "Monitored metric val_loss did not improve in the last 20 records. Best score: 0.562. Signaling Trainer to stop.\n"
     ]
    },
    {
     "data": {
      "image/png": "[encoded data removed]",
      "text/plain": [
       "<Figure size 1000x500 with 1 Axes>"
      ]
     },
     "metadata": {},
     "output_type": "display_data"
    }
   ],
   "source": [
    "model = Trainer(model=VGG16)\n",
    "early_stop_callback = EarlyStopping(\n",
    "    monitor='val_loss',\n",
    "    min_delta=0.00,\n",
    "    patience=20,\n",
    "    verbose=True,\n",
    "    mode='min'\n",
    ")\n",
    "# Trainer\n",
    "trainer =  pl.Trainer(max_epochs=30, callbacks=[early_stop_callback,FinalPlotCallback()])\n",
    "# Training\n",
    "trainer.fit(model, train_loader, val_loader)"
   ]
  },
  {
   "cell_type": "code",
   "execution_count": 13,
   "id": "9c9044cd-9f58-41eb-83a5-9d810d92a1af",
   "metadata": {},
   "outputs": [
    {
     "name": "stdout",
     "output_type": "stream",
     "text": [
      "Test Accuracy: 0.6486\n",
      "Test Precision: 0.6195\n",
      "Test Recall: 0.6486\n",
      "Test F1-Score: 0.6265\n",
      "Validation ROC-AUC: 0.5558\n"
     ]
    }
   ],
   "source": [
    "testing(model)"
   ]
  }
 ],
 "metadata": {
  "kernelspec": {
   "display_name": "PIE",
   "language": "python",
   "name": "pie"
  },
  "language_info": {
   "codemirror_mode": {
    "name": "ipython",
    "version": 3
   },
   "file_extension": ".py",
   "mimetype": "text/x-python",
   "name": "python",
   "nbconvert_exporter": "python",
   "pygments_lexer": "ipython3",
   "version": "3.9.19"
  }
 },
 "nbformat": 4,
 "nbformat_minor": 5
}

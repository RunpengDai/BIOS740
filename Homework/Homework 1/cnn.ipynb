{
 "cells": [
  {
   "cell_type": "code",
   "execution_count": 1,
   "id": "6c2bcbf6-6ee1-40bc-adf9-d22dfe3a467f",
   "metadata": {},
   "outputs": [],
   "source": [
    "import glob\n",
    "import pandas as pd\n",
    "import numpy as np\n",
    "import torch\n",
    "import torch.nn as nn\n",
    "import torch.nn.functional as F\n",
    "from torch.utils.data import Dataset, DataLoader\n",
    "from sklearn.model_selection import train_test_split\n",
    "import pytorch_lightning as pl\n",
    "from torchvision import models,transforms\n",
    "import torchvision.transforms.functional as TF\n",
    "from pytorch_lightning.callbacks.early_stopping import EarlyStopping\n",
    "from pytorch_lightning.loggers import CSVLogger\n",
    "import matplotlib.pyplot as plt"
   ]
  },
  {
   "cell_type": "markdown",
   "id": "b12016c9",
   "metadata": {},
   "source": [
    "## Loading data"
   ]
  },
  {
   "cell_type": "code",
   "execution_count": 2,
   "id": "de7dfbc0-70d8-46a9-95f5-3aee30e0f39a",
   "metadata": {},
   "outputs": [],
   "source": [
    "# Input data\n",
    "subject_ids = np.loadtxt(\"selected_samples_subset.txt\", dtype=str)\n",
    "left_hippo_dir = \"LeftCSV_subset/\"\n",
    "left_hippo_files = glob.glob(left_hippo_dir+\"*\")\n",
    "right_hippo_dir = \"RightCSV_subset/\"\n",
    "right_hippo_files = glob.glob(right_hippo_dir+\"*\")\n",
    "labels = pd.read_csv(\"adni_subset.csv\",names=['ID','AD']) "
   ]
  },
  {
   "cell_type": "code",
   "execution_count": 3,
   "id": "e32194dd-e2be-4c21-8654-4755095aaade",
   "metadata": {},
   "outputs": [],
   "source": [
    "class HippocampusDataset(Dataset):\n",
    "    def __init__(self, left_hippo_files, right_hippo_files, labels=None):\n",
    "        self.left_hippo = [pd.read_csv(f, header=None, sep=\" \").values for f in left_hippo_files]\n",
    "        self.right_hippo = [pd.read_csv(f, header=None, sep=\" \").values for f in right_hippo_files]\n",
    "        self.labels = labels['AD'] if labels is not None else None\n",
    "\n",
    "    def __len__(self):\n",
    "        return len(self.left_hippo)\n",
    "\n",
    "    def __getitem__(self, idx):\n",
    "        left = self.left_hippo[idx].astype(np.float32)   # shape: (15000, 7)\n",
    "        right = self.right_hippo[idx].astype(np.float32) # shape: (15000, 7)\n",
    "\n",
    "        ##########################################################\n",
    "        # 1. Concatenate the left and right hippocampus data along the feature dimension => (15000, 14)\n",
    "        # 2. Transpose to get (14, 15000)\n",
    "        # 3. Reshape each feature into (14, 150, 100)\n",
    "        # 4. Convert to torch tensor and normalize per feature channel\n",
    "        ##########################################################\n",
    "        pass\n",
    "\n",
    "\n",
    "        ##########################################################\n",
    "        # END OF YOUR CODE\n",
    "        ##########################################################\n",
    "\n",
    "        if self.labels is not None:\n",
    "            label = self.labels.iloc[idx]\n",
    "            return sample, label\n",
    "        else:\n",
    "            return sample"
   ]
  },
  {
   "cell_type": "code",
   "execution_count": 4,
   "id": "47ed0aca",
   "metadata": {},
   "outputs": [],
   "source": [
    "data_df = pd.DataFrame({\n",
    "    'ID': subject_ids,\n",
    "    'LeftFile': left_hippo_files,\n",
    "    'RightFile': right_hippo_files\n",
    "})\n",
    "\n",
    "# Merge data and labels on SubjectID\n",
    "merged_df = pd.merge(data_df, labels, on='ID', how='inner')  # Keep only subjects with labels\n",
    "\n",
    "# Now extract the filtered lists\n",
    "filtered_left_files = merged_df['LeftFile'].tolist()\n",
    "filtered_right_files = merged_df['RightFile'].tolist()\n",
    "\n",
    "unique_labels = sorted(set(labels['AD']))\n",
    "label_to_index = {label: idx for idx, label in enumerate(unique_labels)}\n",
    "labels['AD'] = [label_to_index[label] for label in labels['AD']]\n",
    "\n",
    "# Split into training and validation sets\n",
    "train_left, test_left, train_right, test_right, train_labels, test_labels = train_test_split(\n",
    "    filtered_left_files, filtered_right_files, labels, test_size=0.2, random_state=42\n",
    ")\n",
    "train_left, val_left, train_right, val_right, train_labels, val_labels = train_test_split(\n",
    "    train_left, train_right, train_labels, test_size=0.2, random_state=42\n",
    ")\n",
    "\n",
    "# Create Datasets and DataLoaders\n",
    "train_dataset = HippocampusDataset(train_left, train_right, train_labels)\n",
    "val_dataset = HippocampusDataset(val_left, val_right, val_labels)\n",
    "\n",
    "train_loader = DataLoader(train_dataset, batch_size=16, shuffle=True)\n",
    "val_loader = DataLoader(val_dataset, batch_size=16)\n",
    "\n",
    "test_dataset = HippocampusDataset(test_left, test_right, test_labels)\n",
    "test_loader = DataLoader(test_dataset, batch_size=32)"
   ]
  },
  {
   "cell_type": "markdown",
   "id": "0a2232f9",
   "metadata": {},
   "source": [
    "## visualize some samples"
   ]
  },
  {
   "cell_type": "code",
   "execution_count": null,
   "id": "ab33bf66",
   "metadata": {},
   "outputs": [],
   "source": [
    "print(f\"The training set contain {len(train_dataset)} samples.\")\n",
    "print(f\"Each sample has shape {train_dataset[0][0].shape}.\")"
   ]
  },
  {
   "cell_type": "markdown",
   "id": "54c9cfe2",
   "metadata": {},
   "source": [
    "Each sample is an image(150*100) with 14 Channels/Features from left and right hippocampus.\n",
    "We can visualize one sample "
   ]
  },
  {
   "cell_type": "code",
   "execution_count": null,
   "id": "55b2a010",
   "metadata": {},
   "outputs": [],
   "source": [
    "example_rd_tensor = train_dataset[0][0][0]  # shape: (150, 100)\n",
    "# Convert to NumPy\n",
    "radial_distance = example_rd_tensor.cpu().numpy() \n",
    "\n",
    "# Then plot as before\n",
    "plt.imshow(radial_distance, origin='lower', cmap='jet', aspect='auto')\n",
    "plt.colorbar(label=\"Radial Distance\")\n",
    "plt.title(\"First Feature (Radial Distance) in 2D\")\n",
    "plt.xlabel(\"Horizontal Index\")\n",
    "plt.ylabel(\"Vertical Index\")\n",
    "plt.show()"
   ]
  },
  {
   "cell_type": "markdown",
   "id": "70b056cd",
   "metadata": {},
   "source": [
    "## Naive CNN model"
   ]
  },
  {
   "cell_type": "markdown",
   "id": "f7603719",
   "metadata": {},
   "source": [
    "### First we create a trainer"
   ]
  },
  {
   "cell_type": "code",
   "execution_count": 5,
   "id": "f77771f8",
   "metadata": {},
   "outputs": [],
   "source": [
    "class Trainer(pl.LightningModule):\n",
    "    def __init__(self, model = None):\n",
    "        super(Trainer, self).__init__()\n",
    "        self.model = model\n",
    "        self.criterion = nn.CrossEntropyLoss()\n",
    "    \n",
    "    def forward(self, x):  \n",
    "        return self.model(x)\n",
    "        \n",
    "    def training_step(self, batch, batch_idx):\n",
    "        data, labels = batch\n",
    "        outputs = self(data)\n",
    "        loss = self.criterion(outputs, labels)\n",
    "        preds = torch.argmax(outputs, dim=1)\n",
    "        acc = (preds == labels).float().mean()\n",
    "        self.log('train_loss', loss)\n",
    "        self.log('train_acc', acc)\n",
    "        return loss\n",
    "\n",
    "    def validation_step(self, batch, batch_idx):\n",
    "        data, labels = batch\n",
    "        outputs = self(data)\n",
    "        loss = self.criterion(outputs, labels)\n",
    "        preds = torch.argmax(outputs, dim=1)\n",
    "        acc = (preds == labels).float().mean()\n",
    "        self.log('val_loss', loss)\n",
    "        self.log('val_acc', acc)\n",
    "\n",
    "    def configure_optimizers(self):\n",
    "        return torch.optim.Adam(self.parameters(), lr=1e-4)"
   ]
  },
  {
   "attachments": {
    "image.png": {
     "image/png": "[encoded data removed]"
    }
   },
   "cell_type": "markdown",
   "id": "a97b3028",
   "metadata": {},
   "source": [
    "![image.png](attachment:image.png)"
   ]
  },
  {
   "cell_type": "code",
   "execution_count": 9,
   "id": "9cec6c99",
   "metadata": {},
   "outputs": [],
   "source": [
    "class SimpleCNN(nn.Module):\n",
    "    def __init__(self, num_classes=2):\n",
    "        super(SimpleCNN, self).__init__()\n",
    "        ##########################################################\n",
    "        # 1) Three 2D convolutional layers\n",
    "        # 2) A MaxPool2d layer self.pool\n",
    "        # 3) A Dropout layer self.dropout with probability 0.5\n",
    "        # 4) Two fully connected layers\n",
    "        #    -> Remember to compute in_features for self.fc1 based on\n",
    "        #       the output shape after the Conv+Pool layers.\n",
    "        ##########################################################\n",
    "        pass\n",
    "\n",
    "        ##########################################################\n",
    "        # END OF YOUR CODE\n",
    "        ##########################################################\n",
    "\n",
    "    def forward(self, x):\n",
    "        \"\"\"\n",
    "        Forward pass:\n",
    "        x shape = [batch_size, 14, 150, 100]\n",
    "        \"\"\"\n",
    "        # 1) First conv + ReLU + pool\n",
    "        x = F.relu(self.conv1(x))  \n",
    "        x = self.pool(x)           \n",
    "\n",
    "        # 2) Second conv + ReLU + pool\n",
    "        x = F.relu(self.conv2(x))  \n",
    "        x = self.pool(x)           \n",
    "\n",
    "        # 3) Third conv + ReLU + pool\n",
    "        x = F.relu(self.conv3(x))  \n",
    "        x = self.pool(x)          \n",
    "\n",
    "        # Flatten\n",
    "        x = x.view(x.size(0), -1)  \n",
    "        x = self.dropout(x)\n",
    "\n",
    "        # Fully connected layers\n",
    "        x = F.relu(self.fc1(x))\n",
    "        x = self.fc2(x)\n",
    "        return x.squeeze()  "
   ]
  },
  {
   "cell_type": "markdown",
   "id": "3687408c-e525-47da-88e4-4f1fff09aa69",
   "metadata": {},
   "source": [
    "### Sanity Check of simple CNN"
   ]
  },
  {
   "cell_type": "markdown",
   "id": "7a2b15ba-a392-4599-8e10-fc4b8aad030c",
   "metadata": {},
   "source": [
    "You can use this to make sure the dimension of matrix match. To ensure the dimensions of matrices match and debug potential mismatches, you can add print statements to check the shape of each tensor in the forward step of your model."
   ]
  },
  {
   "cell_type": "code",
   "execution_count": null,
   "id": "ac239caf-2967-4a72-b6e8-d7ee904f48b9",
   "metadata": {},
   "outputs": [],
   "source": [
    "x = torch.randn(1, 14, 150, 100)\n",
    "simple_cnn = SimpleCNN()\n",
    "simple_cnn(x)"
   ]
  },
  {
   "cell_type": "markdown",
   "id": "40e47f7f",
   "metadata": {},
   "source": [
    "### Helper function for us to visualize the training process"
   ]
  },
  {
   "cell_type": "code",
   "execution_count": 6,
   "id": "8b7b1c76",
   "metadata": {},
   "outputs": [],
   "source": [
    "class FinalPlotCallback(pl.Callback):\n",
    "    def __init__(self):\n",
    "        super().__init__()\n",
    "        self.train_losses = []\n",
    "        self.val_losses = []\n",
    "\n",
    "    def on_train_epoch_end(self, trainer, pl_module):\n",
    "        # Append training and validation loss at the end of each epoch\n",
    "        train_loss = trainer.callback_metrics.get(\"train_loss\")\n",
    "        if train_loss:\n",
    "            self.train_losses.append(train_loss.cpu().detach().item())\n",
    "        \n",
    "        val_loss = trainer.callback_metrics.get(\"val_loss\")\n",
    "        if val_loss:\n",
    "            self.val_losses.append(val_loss.cpu().detach().item())\n",
    "\n",
    "    def on_train_end(self, trainer, pl_module):\n",
    "        # Plot the losses at the end of training\n",
    "        plt.figure(figsize=(10, 5))\n",
    "        plt.plot(self.train_losses, label=\"Train Loss\", marker=\"o\")\n",
    "        plt.plot(self.val_losses, label=\"Validation Loss\", marker=\"o\")\n",
    "        plt.xlabel(\"Epoch\")\n",
    "        plt.ylabel(\"Loss\")\n",
    "        plt.title(\"Training and Validation Loss Over Epochs\")\n",
    "        plt.legend()\n",
    "        plt.grid(True)\n",
    "        plt.show()"
   ]
  },
  {
   "cell_type": "markdown",
   "id": "dfe03f1a",
   "metadata": {},
   "source": [
    "### Train the Naive CNN model"
   ]
  },
  {
   "cell_type": "markdown",
   "id": "8769a85f-5508-464a-982a-224c9b226305",
   "metadata": {},
   "source": [
    "You can add techniques to prevent overfitting, such as early stopping."
   ]
  },
  {
   "cell_type": "code",
   "execution_count": null,
   "id": "12a37b36",
   "metadata": {},
   "outputs": [],
   "source": [
    "model = Trainer(model=SimpleCNN())\n",
    "# Trainer\n",
    "trainer =  pl.Trainer(max_epochs=50, callbacks=[FinalPlotCallback()]) # You may check the documents  \n",
    "# Training\n",
    "trainer.fit(model, train_loader, val_loader)"
   ]
  },
  {
   "cell_type": "markdown",
   "id": "13bd938e",
   "metadata": {
    "tags": []
   },
   "source": [
    "### Testing the Naive CNN model"
   ]
  },
  {
   "cell_type": "markdown",
   "id": "a3736cb8",
   "metadata": {},
   "source": [
    "### Finish the testing helper function"
   ]
  },
  {
   "cell_type": "code",
   "execution_count": 12,
   "id": "9669c0c7",
   "metadata": {},
   "outputs": [],
   "source": [
    "def testing(model):\n",
    "    # Inference on Test Set\n",
    "    model.eval()\n",
    "    test_label = test_labels['AD']\n",
    "    test_preds = []\n",
    "    with torch.no_grad():\n",
    "        for batch in test_loader:\n",
    "            data, _ = batch  # Unpack the batch; labels are ignored\n",
    "            outputs = model(data)\n",
    "            predictions = torch.argmax(outputs, dim=1)\n",
    "            test_preds.extend(predictions.cpu().numpy())\n",
    "    ##########################################################\n",
    "    # TODO: Import the necessary evaluation metrics from sklearn.metrics:\n",
    "    # - accuracy_score\n",
    "    # - precision_score\n",
    "    # - recall_score\n",
    "    # - f1_score\n",
    "    # - roc_auc_score\n",
    "    #\n",
    "    # Then, compute the following metrics using `test_label` and `test_preds`:\n",
    "    # 1. Accuracy\n",
    "    # 2. Precision (use 'weighted' average)\n",
    "    # 3. Recall (use 'weighted' average)\n",
    "    # 4. F1-Score (use 'weighted' average)\n",
    "    # 5. ROC-AUC (use 'weighted' average and 'ovr' for multi_class)\n",
    "    #\n",
    "    # Finally, print out each metric with four decimal places in the specified format.\n",
    "    ##########################################################\n",
    "    # Replace \"pass\" statement with your code\n",
    "    pass\n",
    "\n",
    "    ##########################################################\n",
    "    # END OF YOUR CODE\n",
    "    ##########################################################"
   ]
  },
  {
   "cell_type": "code",
   "execution_count": null,
   "id": "ef99568a",
   "metadata": {},
   "outputs": [],
   "source": [
    "testing(model)"
   ]
  },
  {
   "cell_type": "markdown",
   "id": "0aa60c60",
   "metadata": {},
   "source": [
    "# Try some class CNN structures"
   ]
  },
  {
   "cell_type": "markdown",
   "id": "adb3b986",
   "metadata": {},
   "source": [
    "We can experiment with modern CNN architectures such as ResNet and DenseNet. These models can be loaded from torch.hub, and some layers may need to be modified to ensure compatibility. "
   ]
  },
  {
   "cell_type": "markdown",
   "id": "91ac3ea6-f93b-41c1-a745-08d12062f5f1",
   "metadata": {},
   "source": [
    "Hint: Specifically, ensure that the input layer matches the shape of your data and the output layer corresponds to the number of classes in your task."
   ]
  },
  {
   "cell_type": "markdown",
   "id": "62a42bb6-5108-4b9a-96fa-b3eb0bb5cacd",
   "metadata": {},
   "source": [
    "You can feel free to google or ask chatGPT for the answer."
   ]
  },
  {
   "cell_type": "code",
   "execution_count": null,
   "id": "584140c2-e56b-4c58-80fb-1ccb0f1ffa92",
   "metadata": {},
   "outputs": [],
   "source": [
    "VGG16 = torch.hub.load('pytorch/vision:v0.19.0', 'vgg16', pretrained=False)\n",
    "print(VGG16)"
   ]
  },
  {
   "cell_type": "code",
   "execution_count": null,
   "id": "8a366d9f",
   "metadata": {},
   "outputs": [],
   "source": [
    "##########################################################\n",
    "# TODO: You need to find a way to modify layers in VGG16 to match the input shape of your data and the number of output classes.\n",
    "##########################################################\n",
    "# Replace \"pass\" statement with your code\n",
    "pass\n",
    "\n",
    "##########################################################\n",
    "# END OF YOUR CODE\n",
    "##########################################################\n",
    "print(VGG16_new)"
   ]
  },
  {
   "cell_type": "markdown",
   "id": "53abc86a",
   "metadata": {},
   "source": [
    "You can expect an accuracy around 70%"
   ]
  },
  {
   "cell_type": "code",
   "execution_count": null,
   "id": "2e3a817f",
   "metadata": {},
   "outputs": [],
   "source": [
    "model = Trainer(model=VGG16_new)\n",
    "early_stop_callback = EarlyStopping(\n",
    "    monitor='val_loss',\n",
    "    min_delta=0.00,\n",
    "    patience=20,\n",
    "    verbose=True,\n",
    "    mode='min'\n",
    ")\n",
    "# Trainer\n",
    "trainer =  pl.Trainer(max_epochs=30, callbacks=[early_stop_callback,FinalPlotCallback()])\n",
    "# Training\n",
    "trainer.fit(model, train_loader, val_loader)"
   ]
  },
  {
   "cell_type": "code",
   "execution_count": null,
   "id": "9c9044cd-9f58-41eb-83a5-9d810d92a1af",
   "metadata": {},
   "outputs": [],
   "source": [
    "testing(model)"
   ]
  }
 ],
 "metadata": {
  "kernelspec": {
   "display_name": "PIE",
   "language": "python",
   "name": "pie"
  },
  "language_info": {
   "codemirror_mode": {
    "name": "ipython",
    "version": 3
   },
   "file_extension": ".py",
   "mimetype": "text/x-python",
   "name": "python",
   "nbconvert_exporter": "python",
   "pygments_lexer": "ipython3",
   "version": "3.9.19"
  }
 },
 "nbformat": 4,
 "nbformat_minor": 5
}
